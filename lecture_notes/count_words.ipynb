{
 "cells": [
  {
   "cell_type": "code",
   "execution_count": 3,
   "metadata": {},
   "outputs": [
    {
     "name": "stdout",
     "output_type": "stream",
     "text": [
      "10 most common words:\n",
      "Word\tCount\n",
      "a\t9\n",
      "he\t6\n",
      "the\t6\n",
      "and\t5\n",
      "as\t4\n",
      "was\t4\n",
      "with\t3\n",
      "i\t2\n",
      "of\t2\n",
      "his\t2\n",
      "\n",
      "10 least common words:\n",
      "Word\tCount\n",
      "tables\t1\n",
      "merry\t1\n",
      "word\t1\n",
      "or\t1\n",
      "slap\t1\n",
      "on\t1\n",
      "for\t1\n",
      "more\t1\n",
      "favoured\t1\n",
      "guests\t1\n"
     ]
    }
   ],
   "source": [
    "\"\"\"Count words.\"\"\"\n",
    "\n",
    "# regex\n",
    "import re\n",
    "import collections\n",
    "\n",
    "def count_words(text):\n",
    "    \"\"\"Count how many times each unique word occurs in text.\"\"\"\n",
    "    counts = dict()  # dictionary of { <word>: <count> } pairs to return\n",
    "    \n",
    "    # TODO: Convert to lowercase\n",
    "    text = text.lower()\n",
    "    \n",
    "    # TODO: Split text into tokens (words), leaving out punctuation\n",
    "    # (Hint: Use regex to split on non-alphanumeric characters)\n",
    "    text = re.sub(r'[^\\w\\s]', '', text)\n",
    "    text = text.split(' ')\n",
    "    \n",
    "    # TODO: Aggregate word counts using a dictionary\n",
    "    counts = collections.Counter(text)\n",
    "    return counts\n",
    "\n",
    "\n",
    "def test_run():\n",
    "    with open(\"./texts/input_counting_words.txt\", \"r\") as f:\n",
    "        text = f.read()\n",
    "        counts = count_words(text)\n",
    "        sorted_counts = sorted(counts.items(), key=lambda pair: pair[1], reverse=True)\n",
    "        \n",
    "        print(\"10 most common words:\\nWord\\tCount\")\n",
    "        for word, count in sorted_counts[:10]:\n",
    "            print(\"{}\\t{}\".format(word, count))\n",
    "        \n",
    "        print(\"\\n10 least common words:\\nWord\\tCount\")\n",
    "        for word, count in sorted_counts[-10:]:\n",
    "            print(\"{}\\t{}\".format(word, count))\n",
    "\n",
    "\n",
    "if __name__ == \"__main__\":\n",
    "    test_run()\n"
   ]
  },
  {
   "cell_type": "code",
   "execution_count": null,
   "metadata": {},
   "outputs": [],
   "source": []
  }
 ],
 "metadata": {
  "kernelspec": {
   "display_name": "Python 3",
   "language": "python",
   "name": "python3"
  },
  "language_info": {
   "codemirror_mode": {
    "name": "ipython",
    "version": 3
   },
   "file_extension": ".py",
   "mimetype": "text/x-python",
   "name": "python",
   "nbconvert_exporter": "python",
   "pygments_lexer": "ipython3",
   "version": "3.8.3"
  }
 },
 "nbformat": 4,
 "nbformat_minor": 4
}
