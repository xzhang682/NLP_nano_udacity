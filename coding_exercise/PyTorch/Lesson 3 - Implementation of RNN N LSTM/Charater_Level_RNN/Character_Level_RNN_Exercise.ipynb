{
 "cells": [
  {
   "cell_type": "markdown",
   "metadata": {},
   "source": [
    "# Character-Level LSTM in PyTorch\n",
    "\n",
    "In this notebook, I'll construct a character-level LSTM with PyTorch. The network will train character by character on some text, then generate new text character by character. As an example, I will train on Anna Karenina. **This model will be able to generate new text based on the text from the book!**\n",
    "\n",
    "This network is based off of Andrej Karpathy's [post on RNNs](http://karpathy.github.io/2015/05/21/rnn-effectiveness/) and [implementation in Torch](https://github.com/karpathy/char-rnn). Below is the general architecture of the character-wise RNN.\n",
    "\n",
    "<img src=\"assets/charseq.jpeg\" width=\"500\">"
   ]
  },
  {
   "cell_type": "markdown",
   "metadata": {},
   "source": [
    "First let's load in our required resources for data loading and model creation."
   ]
  },
  {
   "cell_type": "code",
   "execution_count": 16,
   "metadata": {},
   "outputs": [],
   "source": [
    "import numpy as np\n",
    "import torch\n",
    "from torch import nn\n",
    "import torch.nn.functional as F"
   ]
  },
  {
   "cell_type": "markdown",
   "metadata": {},
   "source": [
    "## Load in Data\n",
    "\n",
    "Then, we'll load the Anna Karenina text file and convert it into integers for our network to use. "
   ]
  },
  {
   "cell_type": "code",
   "execution_count": 17,
   "metadata": {},
   "outputs": [],
   "source": [
    "# open text file and read in data as `text`\n",
    "with open('data/anna.txt', 'r') as f:\n",
    "    text = f.read()"
   ]
  },
  {
   "cell_type": "markdown",
   "metadata": {},
   "source": [
    "Let's check out the first 100 characters, make sure everything is peachy. According to the [American Book Review](http://americanbookreview.org/100bestlines.asp), this is the 6th best first line of a book ever."
   ]
  },
  {
   "cell_type": "code",
   "execution_count": 18,
   "metadata": {},
   "outputs": [
    {
     "data": {
      "text/plain": [
       "'Chapter 1\\n\\n\\nHappy families are all alike; every unhappy family is unhappy in its own\\nway.\\n\\nEverythin'"
      ]
     },
     "execution_count": 18,
     "metadata": {},
     "output_type": "execute_result"
    }
   ],
   "source": [
    "text[:100]"
   ]
  },
  {
   "cell_type": "markdown",
   "metadata": {},
   "source": [
    "### Tokenization\n",
    "\n",
    "In the cells, below, I'm creating a couple **dictionaries** to convert the characters to and from integers. Encoding the characters as integers makes it easier to use as input in the network."
   ]
  },
  {
   "cell_type": "code",
   "execution_count": 19,
   "metadata": {},
   "outputs": [],
   "source": [
    "# encode the text and map each character to an integer and vice versa\n",
    "\n",
    "# we create two dictionaries:\n",
    "# 1. int2char, which maps integers to characters\n",
    "# 2. char2int, which maps characters to unique integers\n",
    "chars = tuple(set(text))\n",
    "int2char = dict(enumerate(chars))\n",
    "char2int = {ch: ii for ii, ch in int2char.items()}\n",
    "\n",
    "# encode the text\n",
    "encoded = np.array([char2int[ch] for ch in text])"
   ]
  },
  {
   "cell_type": "markdown",
   "metadata": {},
   "source": [
    "And we can see those same characters from above, encoded as integers."
   ]
  },
  {
   "cell_type": "code",
   "execution_count": 20,
   "metadata": {},
   "outputs": [
    {
     "data": {
      "text/plain": [
       "array([80, 82, 34, 53, 55,  9, 31, 13, 25, 46, 46, 46, 81, 34, 53, 53, 65,\n",
       "       13,  6, 34, 49, 33, 44, 33,  9, 56, 13, 34, 31,  9, 13, 34, 44, 44,\n",
       "       13, 34, 44, 33, 36,  9, 12, 13,  9, 75,  9, 31, 65, 13, 66, 19, 82,\n",
       "       34, 53, 53, 65, 13,  6, 34, 49, 33, 44, 65, 13, 33, 56, 13, 66, 19,\n",
       "       82, 34, 53, 53, 65, 13, 33, 19, 13, 33, 55, 56, 13, 74, 68, 19, 46,\n",
       "       68, 34, 65, 21, 46, 46, 72, 75,  9, 31, 65, 55, 82, 33, 19])"
      ]
     },
     "execution_count": 20,
     "metadata": {},
     "output_type": "execute_result"
    }
   ],
   "source": [
    "encoded[:100]"
   ]
  },
  {
   "cell_type": "markdown",
   "metadata": {},
   "source": [
    "## Pre-processing the data\n",
    "\n",
    "As you can see in our char-RNN image above, our LSTM expects an input that is **one-hot encoded** meaning that each character is converted into an integer (via our created dictionary) and *then* converted into a column vector where only it's corresponding integer index will have the value of 1 and the rest of the vector will be filled with 0's. Since we're one-hot encoding the data, let's make a function to do that!\n"
   ]
  },
  {
   "cell_type": "code",
   "execution_count": 21,
   "metadata": {},
   "outputs": [],
   "source": [
    "def one_hot_encode(arr, n_labels):\n",
    "    \n",
    "    # Initialize the the encoded array\n",
    "    one_hot = np.zeros((np.multiply(*arr.shape), n_labels), dtype=np.float32)\n",
    "    \n",
    "    # Fill the appropriate elements with ones\n",
    "    one_hot[np.arange(one_hot.shape[0]), arr.flatten()] = 1.\n",
    "    \n",
    "    # Finally reshape it to get back to the original array\n",
    "    one_hot = one_hot.reshape((*arr.shape, n_labels))\n",
    "    \n",
    "    return one_hot"
   ]
  },
  {
   "cell_type": "code",
   "execution_count": 22,
   "metadata": {},
   "outputs": [
    {
     "name": "stdout",
     "output_type": "stream",
     "text": [
      "[[[0. 0. 0. 1. 0. 0. 0. 0.]\n",
      "  [0. 0. 0. 0. 0. 1. 0. 0.]\n",
      "  [0. 1. 0. 0. 0. 0. 0. 0.]]]\n"
     ]
    }
   ],
   "source": [
    "# check that the function works as expected\n",
    "test_seq = np.array([[3, 5, 1]])\n",
    "one_hot = one_hot_encode(test_seq, 8)\n",
    "\n",
    "print(one_hot)"
   ]
  },
  {
   "cell_type": "markdown",
   "metadata": {},
   "source": [
    "## Making training mini-batches\n",
    "\n",
    "\n",
    "To train on this data, we also want to create mini-batches for training. Remember that we want our batches to be multiple sequences of some desired number of sequence steps. Considering a simple example, our batches would look like this:\n",
    "\n",
    "<img src=\"assets/sequence_batching@1x.png\" width=500px>\n",
    "\n",
    "\n",
    "<br>\n",
    "\n",
    "In this example, we'll take the encoded characters (passed in as the `arr` parameter) and split them into multiple sequences, given by `batch_size`. Each of our sequences will be `seq_length` long.\n",
    "\n",
    "### Creating Batches\n",
    "\n",
    "**1. The first thing we need to do is discard some of the text so we only have completely full mini-batches. **\n",
    "\n",
    "Each batch contains $N \\times M$ characters, where $N$ is the batch size (the number of sequences in a batch) and $M$ is the seq_length or number of time steps in a sequence. Then, to get the total number of batches, $K$, that we can make from the array `arr`, you divide the length of `arr` by the number of characters per batch. Once you know the number of batches, you can get the total number of characters to keep from `arr`, $N * M * K$.\n",
    "\n",
    "**2. After that, we need to split `arr` into $N$ batches. ** \n",
    "\n",
    "You can do this using `arr.reshape(size)` where `size` is a tuple containing the dimensions sizes of the reshaped array. We know we want $N$ sequences in a batch, so let's make that the size of the first dimension. For the second dimension, you can use `-1` as a placeholder in the size, it'll fill up the array with the appropriate data for you. After this, you should have an array that is $N \\times (M * K)$.\n",
    "\n",
    "**3. Now that we have this array, we can iterate through it to get our mini-batches. **\n",
    "\n",
    "The idea is each batch is a $N \\times M$ window on the $N \\times (M * K)$ array. For each subsequent batch, the window moves over by `seq_length`. We also want to create both the input and target arrays. Remember that the targets are just the inputs shifted over by one character. The way I like to do this window is use `range` to take steps of size `n_steps` from $0$ to `arr.shape[1]`, the total number of tokens in each sequence. That way, the integers you get from `range` always point to the start of a batch, and each window is `seq_length` wide.\n",
    "\n",
    "> **TODO:** Write the code for creating batches in the function below. The exercises in this notebook _will not be easy_. I've provided a notebook with solutions alongside this notebook. If you get stuck, checkout the solutions. The most important thing is that you don't copy and paste the code into here, **type out the solution code yourself.**"
   ]
  },
  {
   "cell_type": "code",
   "execution_count": 58,
   "metadata": {},
   "outputs": [],
   "source": [
    "def get_batches(arr, batch_size, seq_length):\n",
    "    '''Create a generator that returns batches of size\n",
    "       batch_size x seq_length from arr.\n",
    "       \n",
    "       Arguments\n",
    "       ---------\n",
    "       arr: Array you want to make batches from\n",
    "       batch_size: Batch size, the number of sequences per batch\n",
    "       seq_length: Number of encoded chars in a sequence\n",
    "    '''\n",
    "    \n",
    "    batch_size_total = batch_size * seq_length\n",
    "    # total number of batches we can make\n",
    "    n_batches = len(arr)//batch_size_total\n",
    "    \n",
    "    # Keep only enough characters to make full batches\n",
    "    arr = arr[:n_batches * batch_size_total]\n",
    "    # Reshape into batch_size rows\n",
    "    arr = arr.reshape((batch_size, -1))\n",
    "    \n",
    "    # iterate through the array, one sequence at a time\n",
    "    for n in range(0, arr.shape[1], seq_length):\n",
    "        # The features\n",
    "        x = arr[:, n:n+seq_length]\n",
    "        # The targets, shifted by one\n",
    "        y = np.zeros_like(x)\n",
    "        try:\n",
    "            y[:, :-1], y[:, -1] = x[:, 1:], arr[:, n+seq_length]\n",
    "        except IndexError:\n",
    "            y[:, :-1], y[:, -1] = x[:, 1:], arr[:, 0]\n",
    "        yield x, y"
   ]
  },
  {
   "cell_type": "markdown",
   "metadata": {},
   "source": [
    "### Test Your Implementation\n",
    "\n",
    "Now I'll make some data sets and we can check out what's going on as we batch data. Here, as an example, I'm going to use a batch size of 8 and 50 sequence steps."
   ]
  },
  {
   "cell_type": "code",
   "execution_count": 59,
   "metadata": {},
   "outputs": [],
   "source": [
    "batches = get_batches(encoded, 8, 50)\n",
    "x, y = next(batches)"
   ]
  },
  {
   "cell_type": "code",
   "execution_count": 60,
   "metadata": {},
   "outputs": [
    {
     "name": "stdout",
     "output_type": "stream",
     "text": [
      "x\n",
      " [[80 82 34 53 55  9 31 13 25 46]\n",
      " [56 74 19 13 55 82 34 55 13 34]\n",
      " [ 9 19 76 13 74 31 13 34 13  6]\n",
      " [56 13 55 82  9 13 59 82 33  9]\n",
      " [13 56 34 68 13 82  9 31 13 55]\n",
      " [59 66 56 56 33 74 19 13 34 19]\n",
      " [13 16 19 19 34 13 82 34 76 13]\n",
      " [40 69 44 74 19 56 36 65 21 13]]\n",
      "\n",
      "y\n",
      " [[82 34 53 55  9 31 13 25 46 46]\n",
      " [74 19 13 55 82 34 55 13 34 55]\n",
      " [19 76 13 74 31 13 34 13  6 74]\n",
      " [13 55 82  9 13 59 82 33  9  6]\n",
      " [56 34 68 13 82  9 31 13 55  9]\n",
      " [66 56 56 33 74 19 13 34 19 76]\n",
      " [16 19 19 34 13 82 34 76 13 56]\n",
      " [69 44 74 19 56 36 65 21 13 35]]\n"
     ]
    }
   ],
   "source": [
    "# printing out the first 10 items in a sequence\n",
    "print('x\\n', x[:10, :10])\n",
    "print('\\ny\\n', y[:10, :10])"
   ]
  },
  {
   "cell_type": "markdown",
   "metadata": {},
   "source": [
    "If you implemented `get_batches` correctly, the above output should look something like \n",
    "```\n",
    "x\n",
    " [[25  8 60 11 45 27 28 73  1  2]\n",
    " [17  7 20 73 45  8 60 45 73 60]\n",
    " [27 20 80 73  7 28 73 60 73 65]\n",
    " [17 73 45  8 27 73 66  8 46 27]\n",
    " [73 17 60 12 73  8 27 28 73 45]\n",
    " [66 64 17 17 46  7 20 73 60 20]\n",
    " [73 76 20 20 60 73  8 60 80 73]\n",
    " [47 35 43  7 20 17 24 50 37 73]]\n",
    "\n",
    "y\n",
    " [[ 8 60 11 45 27 28 73  1  2  2]\n",
    " [ 7 20 73 45  8 60 45 73 60 45]\n",
    " [20 80 73  7 28 73 60 73 65  7]\n",
    " [73 45  8 27 73 66  8 46 27 65]\n",
    " [17 60 12 73  8 27 28 73 45 27]\n",
    " [64 17 17 46  7 20 73 60 20 80]\n",
    " [76 20 20 60 73  8 60 80 73 17]\n",
    " [35 43  7 20 17 24 50 37 73 36]]\n",
    " ```\n",
    " although the exact numbers may be different. Check to make sure the data is shifted over one step for `y`."
   ]
  },
  {
   "cell_type": "markdown",
   "metadata": {},
   "source": [
    "---\n",
    "## Defining the network with PyTorch\n",
    "\n",
    "Below is where you'll define the network.\n",
    "\n",
    "<img src=\"assets/charRNN.png\" width=500px>\n",
    "\n",
    "Next, you'll use PyTorch to define the architecture of the network. We start by defining the layers and operations we want. Then, define a method for the forward pass. You've also been given a method for predicting characters."
   ]
  },
  {
   "cell_type": "markdown",
   "metadata": {},
   "source": [
    "### Model Structure\n",
    "\n",
    "In `__init__` the suggested structure is as follows:\n",
    "* Create and store the necessary dictionaries (this has been done for you)\n",
    "* Define an LSTM layer that takes as params: an input size (the number of characters), a hidden layer size `n_hidden`, a number of layers `n_layers`, a dropout probability `drop_prob`, and a batch_first boolean (True, since we are batching)\n",
    "* Define a dropout layer with `dropout_prob`\n",
    "* Define a fully-connected layer with params: input size `n_hidden` and output size (the number of characters)\n",
    "* Finally, initialize the weights (again, this has been given)\n",
    "\n",
    "Note that some parameters have been named and given in the `__init__` function, and we use them and store them by doing something like `self.drop_prob = drop_prob`."
   ]
  },
  {
   "cell_type": "markdown",
   "metadata": {},
   "source": [
    "---\n",
    "### LSTM Inputs/Outputs\n",
    "\n",
    "You can create a basic [LSTM layer](https://pytorch.org/docs/stable/nn.html#lstm) as follows\n",
    "\n",
    "```python\n",
    "self.lstm = nn.LSTM(input_size, n_hidden, n_layers, \n",
    "                            dropout=drop_prob, batch_first=True)\n",
    "```\n",
    "\n",
    "where `input_size` is the number of characters this cell expects to see as sequential input, and `n_hidden` is the number of units in the hidden layers in the cell. And we can add dropout by adding a dropout parameter with a specified probability; this will automatically add dropout to the inputs or outputs. Finally, in the `forward` function, we can stack up the LSTM cells into layers using `.view`. With this, you pass in a list of cells and it will send the output of one cell into the next cell.\n",
    "\n",
    "We also need to create an initial hidden state of all zeros. This is done like so\n",
    "\n",
    "```python\n",
    "self.init_hidden()\n",
    "```"
   ]
  },
  {
   "cell_type": "code",
   "execution_count": 61,
   "metadata": {},
   "outputs": [
    {
     "name": "stdout",
     "output_type": "stream",
     "text": [
      "Training on GPU!\n"
     ]
    }
   ],
   "source": [
    "# check if GPU is available\n",
    "train_on_gpu = torch.cuda.is_available()\n",
    "if(train_on_gpu):\n",
    "    print('Training on GPU!')\n",
    "else: \n",
    "    print('No GPU available, training on CPU; consider making n_epochs very small.')"
   ]
  },
  {
   "cell_type": "code",
   "execution_count": 87,
   "metadata": {},
   "outputs": [],
   "source": [
    "class CharRNN(nn.Module):\n",
    "    \n",
    "    def __init__(self, tokens, n_hidden=256, n_layers=2,\n",
    "                               drop_prob=0.5, lr=0.001):\n",
    "        super().__init__()\n",
    "        self.drop_prob = drop_prob\n",
    "        self.n_layers = n_layers\n",
    "        self.n_hidden = n_hidden\n",
    "        self.lr = lr\n",
    "        \n",
    "        # creating character dictionaries\n",
    "        self.chars = tokens\n",
    "        self.int2char = dict(enumerate(self.chars))\n",
    "        self.char2int = {ch: ii for ii, ch in self.int2char.items()}\n",
    "        \n",
    "        ## TODO: define the LSTM\n",
    "        self.lstm = nn.LSTM(len(self.chars), n_hidden, n_layers, \n",
    "                            dropout=drop_prob, batch_first=True)\n",
    "        \n",
    "        ## TODO: define a dropout layer\n",
    "        self.dropout = nn.Dropout(drop_prob)\n",
    "        \n",
    "        ## TODO: define the final, fully-connected output layer\n",
    "        self.fc = nn.Linear(n_hidden, len(self.chars))\n",
    "      \n",
    "    \n",
    "    def forward(self, x, hidden):\n",
    "        ''' Forward pass through the network. \n",
    "            These inputs are x, and the hidden/cell state `hidden`. '''\n",
    "        \n",
    "#         print('x:', x.size())\n",
    "        ## TODO: Get the outputs and the new hidden state from the lstm\n",
    "        r_output, hidden = self.lstm(x, hidden)\n",
    "        \n",
    "#         print('lstm output', r_output.size(), 'lstm hidden', type(hidden))\n",
    "        ## TODO: pass through a dropout layer\n",
    "        out = self.dropout(r_output)\n",
    "        \n",
    "#         print('dropout', out.size())\n",
    "        # Stack up LSTM outputs using view\n",
    "        # you may need to use contiguous to reshape the output\n",
    "        out = out.contiguous().view(-1, self.n_hidden)\n",
    "        \n",
    "#         print('dropout reshape', out.size())\n",
    "        ## TODO: put x through the fully-connected layer\n",
    "        out = self.fc(out)\n",
    "        \n",
    "#         print('linear', out.size())\n",
    "        # return the final output and the hidden state\n",
    "        return out, hidden\n",
    "    \n",
    "    \n",
    "    def init_hidden(self, batch_size):\n",
    "        ''' Initializes hidden state '''\n",
    "        # Create two new tensors with sizes n_layers x batch_size x n_hidden,\n",
    "        # initialized to zero, for hidden state and cell state of LSTM\n",
    "        weight = next(self.parameters()).data\n",
    "        \n",
    "        if (train_on_gpu):\n",
    "            hidden = (weight.new(self.n_layers, batch_size, self.n_hidden).zero_().cuda(),\n",
    "                  weight.new(self.n_layers, batch_size, self.n_hidden).zero_().cuda())\n",
    "        else:\n",
    "            hidden = (weight.new(self.n_layers, batch_size, self.n_hidden).zero_(),\n",
    "                      weight.new(self.n_layers, batch_size, self.n_hidden).zero_())\n",
    "        \n",
    "        return hidden\n",
    "        "
   ]
  },
  {
   "cell_type": "markdown",
   "metadata": {},
   "source": [
    "## Time to train\n",
    "\n",
    "The train function gives us the ability to set the number of epochs, the learning rate, and other parameters.\n",
    "\n",
    "Below we're using an Adam optimizer and cross entropy loss since we are looking at character class scores as output. We calculate the loss and perform backpropagation, as usual!\n",
    "\n",
    "A couple of details about training: \n",
    ">* Within the batch loop, we detach the hidden state from its history; this time setting it equal to a new *tuple* variable because an LSTM has a hidden state that is a tuple of the hidden and cell states.\n",
    "* We use [`clip_grad_norm_`](https://pytorch.org/docs/stable/_modules/torch/nn/utils/clip_grad.html) to help prevent exploding gradients."
   ]
  },
  {
   "cell_type": "code",
   "execution_count": 88,
   "metadata": {},
   "outputs": [],
   "source": [
    "def train(net, data, epochs=10, batch_size=10, seq_length=50, lr=0.001, clip=5, val_frac=0.1, print_every=10):\n",
    "    ''' Training a network \n",
    "    \n",
    "        Arguments\n",
    "        ---------\n",
    "        \n",
    "        net: CharRNN network\n",
    "        data: text data to train the network\n",
    "        epochs: Number of epochs to train\n",
    "        batch_size: Number of mini-sequences per mini-batch, aka batch size\n",
    "        seq_length: Number of character steps per mini-batch\n",
    "        lr: learning rate\n",
    "        clip: gradient clipping\n",
    "        val_frac: Fraction of data to hold out for validation\n",
    "        print_every: Number of steps for printing training and validation loss\n",
    "    \n",
    "    '''\n",
    "    net.train()\n",
    "    \n",
    "    opt = torch.optim.Adam(net.parameters(), lr=lr)\n",
    "    criterion = nn.CrossEntropyLoss()\n",
    "    \n",
    "    # create training and validation data\n",
    "    val_idx = int(len(data)*(1-val_frac))\n",
    "    data, val_data = data[:val_idx], data[val_idx:]\n",
    "    \n",
    "    if(train_on_gpu):\n",
    "        net.cuda()\n",
    "    \n",
    "    counter = 0\n",
    "    n_chars = len(net.chars)\n",
    "    for e in range(epochs):\n",
    "        # initialize hidden state\n",
    "        h = net.init_hidden(batch_size)\n",
    "        \n",
    "        for x, y in get_batches(data, batch_size, seq_length):\n",
    "            counter += 1\n",
    "            \n",
    "            # One-hot encode our data and make them Torch tensors\n",
    "            x = one_hot_encode(x, n_chars)\n",
    "            inputs, targets = torch.from_numpy(x), torch.from_numpy(y)\n",
    "            \n",
    "            if(train_on_gpu):\n",
    "                inputs, targets = inputs.cuda(), targets.cuda()\n",
    "\n",
    "            # Creating new variables for the hidden state, otherwise\n",
    "            # we'd backprop through the entire training history\n",
    "            h = tuple([each.data for each in h])\n",
    "\n",
    "            # zero accumulated gradients\n",
    "            net.zero_grad()\n",
    "            \n",
    "            # get the output from the model\n",
    "            output, h = net(inputs, h)\n",
    "            \n",
    "            # calculate the loss and perform backprop\n",
    "            loss = criterion(output, targets.view(batch_size*seq_length))\n",
    "            loss.backward()\n",
    "            # `clip_grad_norm` helps prevent the exploding gradient problem in RNNs / LSTMs.\n",
    "            nn.utils.clip_grad_norm_(net.parameters(), clip)\n",
    "            opt.step()\n",
    "            \n",
    "            # loss stats\n",
    "            if counter % print_every == 0:\n",
    "                # Get validation loss\n",
    "                val_h = net.init_hidden(batch_size)\n",
    "                val_losses = []\n",
    "                net.eval()\n",
    "                for x, y in get_batches(val_data, batch_size, seq_length):\n",
    "                    # One-hot encode our data and make them Torch tensors\n",
    "                    x = one_hot_encode(x, n_chars)\n",
    "                    x, y = torch.from_numpy(x), torch.from_numpy(y)\n",
    "                    \n",
    "                    # Creating new variables for the hidden state, otherwise\n",
    "                    # we'd backprop through the entire training history\n",
    "                    val_h = tuple([each.data for each in val_h])\n",
    "                    \n",
    "                    inputs, targets = x, y\n",
    "                    if(train_on_gpu):\n",
    "                        inputs, targets = inputs.cuda(), targets.cuda()\n",
    "\n",
    "                    output, val_h = net(inputs, val_h)\n",
    "                    val_loss = criterion(output, targets.view(batch_size*seq_length))\n",
    "                \n",
    "                    val_losses.append(val_loss.item())\n",
    "                \n",
    "                net.train() # reset to train mode after iterationg through validation data\n",
    "                \n",
    "                print(\"Epoch: {}/{}...\".format(e+1, epochs),\n",
    "                      \"Step: {}...\".format(counter),\n",
    "                      \"Loss: {:.4f}...\".format(loss.item()),\n",
    "                      \"Val Loss: {:.4f}\".format(np.mean(val_losses)))"
   ]
  },
  {
   "cell_type": "markdown",
   "metadata": {},
   "source": [
    "## Instantiating the model\n",
    "\n",
    "Now we can actually train the network. First we'll create the network itself, with some given hyperparameters. Then, define the mini-batches sizes, and start training!"
   ]
  },
  {
   "cell_type": "code",
   "execution_count": 89,
   "metadata": {},
   "outputs": [
    {
     "name": "stdout",
     "output_type": "stream",
     "text": [
      "CharRNN(\n",
      "  (lstm): LSTM(83, 512, num_layers=2, batch_first=True, dropout=0.5)\n",
      "  (dropout): Dropout(p=0.5, inplace=False)\n",
      "  (fc): Linear(in_features=512, out_features=83, bias=True)\n",
      ")\n"
     ]
    }
   ],
   "source": [
    "## TODO: set you model hyperparameters\n",
    "# define and print the net\n",
    "n_hidden=512\n",
    "n_layers=2\n",
    "\n",
    "net = CharRNN(chars, n_hidden, n_layers)\n",
    "print(net)"
   ]
  },
  {
   "cell_type": "markdown",
   "metadata": {},
   "source": [
    "### Set your training hyperparameters!"
   ]
  },
  {
   "cell_type": "code",
   "execution_count": 97,
   "metadata": {
    "scrolled": true
   },
   "outputs": [
    {
     "name": "stdout",
     "output_type": "stream",
     "text": [
      "Epoch: 1/20... Step: 10... Loss: 2.3505... Val Loss: 2.3252\n",
      "Epoch: 1/20... Step: 20... Loss: 2.2907... Val Loss: 2.2647\n",
      "Epoch: 1/20... Step: 30... Loss: 2.2918... Val Loss: 2.2360\n",
      "Epoch: 1/20... Step: 40... Loss: 2.2315... Val Loss: 2.2179\n",
      "Epoch: 1/20... Step: 50... Loss: 2.2590... Val Loss: 2.2017\n",
      "Epoch: 1/20... Step: 60... Loss: 2.1893... Val Loss: 2.1850\n",
      "Epoch: 1/20... Step: 70... Loss: 2.1935... Val Loss: 2.1701\n",
      "Epoch: 1/20... Step: 80... Loss: 2.1638... Val Loss: 2.1516\n",
      "Epoch: 1/20... Step: 90... Loss: 2.1803... Val Loss: 2.1366\n",
      "Epoch: 1/20... Step: 100... Loss: 2.1356... Val Loss: 2.1213\n",
      "Epoch: 1/20... Step: 110... Loss: 2.1179... Val Loss: 2.1049\n",
      "Epoch: 1/20... Step: 120... Loss: 2.0705... Val Loss: 2.0843\n",
      "Epoch: 1/20... Step: 130... Loss: 2.1145... Val Loss: 2.0705\n",
      "Epoch: 2/20... Step: 140... Loss: 2.0946... Val Loss: 2.0526\n",
      "Epoch: 2/20... Step: 150... Loss: 2.0759... Val Loss: 2.0288\n",
      "Epoch: 2/20... Step: 160... Loss: 2.0655... Val Loss: 2.0172\n",
      "Epoch: 2/20... Step: 170... Loss: 2.0350... Val Loss: 1.9990\n",
      "Epoch: 2/20... Step: 180... Loss: 1.9956... Val Loss: 1.9811\n",
      "Epoch: 2/20... Step: 190... Loss: 1.9435... Val Loss: 1.9661\n",
      "Epoch: 2/20... Step: 200... Loss: 1.9544... Val Loss: 1.9478\n",
      "Epoch: 2/20... Step: 210... Loss: 1.9529... Val Loss: 1.9343\n",
      "Epoch: 2/20... Step: 220... Loss: 1.9219... Val Loss: 1.9151\n",
      "Epoch: 2/20... Step: 230... Loss: 1.9321... Val Loss: 1.9005\n",
      "Epoch: 2/20... Step: 240... Loss: 1.9210... Val Loss: 1.8848\n",
      "Epoch: 2/20... Step: 250... Loss: 1.8762... Val Loss: 1.8729\n",
      "Epoch: 2/20... Step: 260... Loss: 1.8469... Val Loss: 1.8571\n",
      "Epoch: 2/20... Step: 270... Loss: 1.8701... Val Loss: 1.8408\n",
      "Epoch: 3/20... Step: 280... Loss: 1.8536... Val Loss: 1.8257\n",
      "Epoch: 3/20... Step: 290... Loss: 1.8519... Val Loss: 1.8116\n",
      "Epoch: 3/20... Step: 300... Loss: 1.8232... Val Loss: 1.8007\n",
      "Epoch: 3/20... Step: 310... Loss: 1.8080... Val Loss: 1.7942\n",
      "Epoch: 3/20... Step: 320... Loss: 1.7720... Val Loss: 1.7760\n",
      "Epoch: 3/20... Step: 330... Loss: 1.7632... Val Loss: 1.7666\n",
      "Epoch: 3/20... Step: 340... Loss: 1.8037... Val Loss: 1.7578\n",
      "Epoch: 3/20... Step: 350... Loss: 1.7621... Val Loss: 1.7440\n",
      "Epoch: 3/20... Step: 360... Loss: 1.7178... Val Loss: 1.7388\n",
      "Epoch: 3/20... Step: 370... Loss: 1.7491... Val Loss: 1.7241\n",
      "Epoch: 3/20... Step: 380... Loss: 1.7404... Val Loss: 1.7159\n",
      "Epoch: 3/20... Step: 390... Loss: 1.7140... Val Loss: 1.7069\n",
      "Epoch: 3/20... Step: 400... Loss: 1.6949... Val Loss: 1.6990\n",
      "Epoch: 3/20... Step: 410... Loss: 1.7068... Val Loss: 1.6861\n",
      "Epoch: 4/20... Step: 420... Loss: 1.7028... Val Loss: 1.6793\n",
      "Epoch: 4/20... Step: 430... Loss: 1.6959... Val Loss: 1.6691\n",
      "Epoch: 4/20... Step: 440... Loss: 1.6863... Val Loss: 1.6607\n",
      "Epoch: 4/20... Step: 450... Loss: 1.6364... Val Loss: 1.6552\n",
      "Epoch: 4/20... Step: 460... Loss: 1.6157... Val Loss: 1.6439\n",
      "Epoch: 4/20... Step: 470... Loss: 1.6748... Val Loss: 1.6384\n",
      "Epoch: 4/20... Step: 480... Loss: 1.6515... Val Loss: 1.6351\n",
      "Epoch: 4/20... Step: 490... Loss: 1.6596... Val Loss: 1.6251\n",
      "Epoch: 4/20... Step: 500... Loss: 1.6526... Val Loss: 1.6199\n",
      "Epoch: 4/20... Step: 510... Loss: 1.6312... Val Loss: 1.6093\n",
      "Epoch: 4/20... Step: 520... Loss: 1.6530... Val Loss: 1.6052\n",
      "Epoch: 4/20... Step: 530... Loss: 1.6156... Val Loss: 1.6016\n",
      "Epoch: 4/20... Step: 540... Loss: 1.5836... Val Loss: 1.5946\n",
      "Epoch: 4/20... Step: 550... Loss: 1.6314... Val Loss: 1.5849\n",
      "Epoch: 5/20... Step: 560... Loss: 1.5989... Val Loss: 1.5913\n",
      "Epoch: 5/20... Step: 570... Loss: 1.5884... Val Loss: 1.5763\n",
      "Epoch: 5/20... Step: 580... Loss: 1.5829... Val Loss: 1.5687\n",
      "Epoch: 5/20... Step: 590... Loss: 1.5650... Val Loss: 1.5634\n",
      "Epoch: 5/20... Step: 600... Loss: 1.5563... Val Loss: 1.5597\n",
      "Epoch: 5/20... Step: 610... Loss: 1.5459... Val Loss: 1.5537\n",
      "Epoch: 5/20... Step: 620... Loss: 1.5509... Val Loss: 1.5512\n",
      "Epoch: 5/20... Step: 630... Loss: 1.5737... Val Loss: 1.5439\n",
      "Epoch: 5/20... Step: 640... Loss: 1.5475... Val Loss: 1.5416\n",
      "Epoch: 5/20... Step: 650... Loss: 1.5416... Val Loss: 1.5368\n",
      "Epoch: 5/20... Step: 660... Loss: 1.5208... Val Loss: 1.5317\n",
      "Epoch: 5/20... Step: 670... Loss: 1.5505... Val Loss: 1.5286\n",
      "Epoch: 5/20... Step: 680... Loss: 1.5445... Val Loss: 1.5248\n",
      "Epoch: 5/20... Step: 690... Loss: 1.5190... Val Loss: 1.5200\n",
      "Epoch: 6/20... Step: 700... Loss: 1.5304... Val Loss: 1.5154\n",
      "Epoch: 6/20... Step: 710... Loss: 1.5162... Val Loss: 1.5144\n",
      "Epoch: 6/20... Step: 720... Loss: 1.5037... Val Loss: 1.5101\n",
      "Epoch: 6/20... Step: 730... Loss: 1.5246... Val Loss: 1.5009\n",
      "Epoch: 6/20... Step: 740... Loss: 1.4889... Val Loss: 1.5002\n",
      "Epoch: 6/20... Step: 750... Loss: 1.4790... Val Loss: 1.4995\n",
      "Epoch: 6/20... Step: 760... Loss: 1.5126... Val Loss: 1.4968\n",
      "Epoch: 6/20... Step: 770... Loss: 1.4961... Val Loss: 1.4928\n",
      "Epoch: 6/20... Step: 780... Loss: 1.4827... Val Loss: 1.4859\n",
      "Epoch: 6/20... Step: 790... Loss: 1.4780... Val Loss: 1.4885\n",
      "Epoch: 6/20... Step: 800... Loss: 1.4987... Val Loss: 1.4804\n",
      "Epoch: 6/20... Step: 810... Loss: 1.4708... Val Loss: 1.4808\n",
      "Epoch: 6/20... Step: 820... Loss: 1.4326... Val Loss: 1.4797\n",
      "Epoch: 6/20... Step: 830... Loss: 1.4923... Val Loss: 1.4742\n",
      "Epoch: 7/20... Step: 840... Loss: 1.4385... Val Loss: 1.4724\n",
      "Epoch: 7/20... Step: 850... Loss: 1.4624... Val Loss: 1.4686\n",
      "Epoch: 7/20... Step: 860... Loss: 1.4527... Val Loss: 1.4659\n",
      "Epoch: 7/20... Step: 870... Loss: 1.4528... Val Loss: 1.4618\n",
      "Epoch: 7/20... Step: 880... Loss: 1.4596... Val Loss: 1.4606\n",
      "Epoch: 7/20... Step: 890... Loss: 1.4554... Val Loss: 1.4568\n",
      "Epoch: 7/20... Step: 900... Loss: 1.4472... Val Loss: 1.4574\n",
      "Epoch: 7/20... Step: 910... Loss: 1.4152... Val Loss: 1.4587\n",
      "Epoch: 7/20... Step: 920... Loss: 1.4459... Val Loss: 1.4489\n",
      "Epoch: 7/20... Step: 930... Loss: 1.4247... Val Loss: 1.4471\n",
      "Epoch: 7/20... Step: 940... Loss: 1.4278... Val Loss: 1.4423\n",
      "Epoch: 7/20... Step: 950... Loss: 1.4421... Val Loss: 1.4409\n",
      "Epoch: 7/20... Step: 960... Loss: 1.4417... Val Loss: 1.4408\n",
      "Epoch: 7/20... Step: 970... Loss: 1.4426... Val Loss: 1.4401\n",
      "Epoch: 8/20... Step: 980... Loss: 1.4128... Val Loss: 1.4396\n",
      "Epoch: 8/20... Step: 990... Loss: 1.4215... Val Loss: 1.4330\n",
      "Epoch: 8/20... Step: 1000... Loss: 1.4153... Val Loss: 1.4294\n",
      "Epoch: 8/20... Step: 1010... Loss: 1.4491... Val Loss: 1.4252\n",
      "Epoch: 8/20... Step: 1020... Loss: 1.4305... Val Loss: 1.4248\n",
      "Epoch: 8/20... Step: 1030... Loss: 1.4024... Val Loss: 1.4226\n",
      "Epoch: 8/20... Step: 1040... Loss: 1.4169... Val Loss: 1.4250\n",
      "Epoch: 8/20... Step: 1050... Loss: 1.4112... Val Loss: 1.4241\n",
      "Epoch: 8/20... Step: 1060... Loss: 1.4030... Val Loss: 1.4194\n",
      "Epoch: 8/20... Step: 1070... Loss: 1.4143... Val Loss: 1.4169\n",
      "Epoch: 8/20... Step: 1080... Loss: 1.3980... Val Loss: 1.4124\n",
      "Epoch: 8/20... Step: 1090... Loss: 1.3863... Val Loss: 1.4126\n",
      "Epoch: 8/20... Step: 1100... Loss: 1.3837... Val Loss: 1.4118\n",
      "Epoch: 8/20... Step: 1110... Loss: 1.3894... Val Loss: 1.4110\n",
      "Epoch: 9/20... Step: 1120... Loss: 1.4041... Val Loss: 1.4121\n",
      "Epoch: 9/20... Step: 1130... Loss: 1.3946... Val Loss: 1.4084\n",
      "Epoch: 9/20... Step: 1140... Loss: 1.4015... Val Loss: 1.4039\n",
      "Epoch: 9/20... Step: 1150... Loss: 1.4093... Val Loss: 1.4005\n",
      "Epoch: 9/20... Step: 1160... Loss: 1.3734... Val Loss: 1.3972\n",
      "Epoch: 9/20... Step: 1170... Loss: 1.3890... Val Loss: 1.3978\n",
      "Epoch: 9/20... Step: 1180... Loss: 1.3709... Val Loss: 1.3977\n",
      "Epoch: 9/20... Step: 1190... Loss: 1.4088... Val Loss: 1.3986\n",
      "Epoch: 9/20... Step: 1200... Loss: 1.3568... Val Loss: 1.3928\n",
      "Epoch: 9/20... Step: 1210... Loss: 1.3708... Val Loss: 1.3942\n",
      "Epoch: 9/20... Step: 1220... Loss: 1.3663... Val Loss: 1.3890\n",
      "Epoch: 9/20... Step: 1230... Loss: 1.3492... Val Loss: 1.3891\n",
      "Epoch: 9/20... Step: 1240... Loss: 1.3626... Val Loss: 1.3882\n",
      "Epoch: 9/20... Step: 1250... Loss: 1.3659... Val Loss: 1.3881\n",
      "Epoch: 10/20... Step: 1260... Loss: 1.3762... Val Loss: 1.3894\n",
      "Epoch: 10/20... Step: 1270... Loss: 1.3701... Val Loss: 1.3887\n",
      "Epoch: 10/20... Step: 1280... Loss: 1.3797... Val Loss: 1.3865\n",
      "Epoch: 10/20... Step: 1290... Loss: 1.3702... Val Loss: 1.3841\n",
      "Epoch: 10/20... Step: 1300... Loss: 1.3654... Val Loss: 1.3809\n",
      "Epoch: 10/20... Step: 1310... Loss: 1.3633... Val Loss: 1.3823\n",
      "Epoch: 10/20... Step: 1320... Loss: 1.3315... Val Loss: 1.3793\n",
      "Epoch: 10/20... Step: 1330... Loss: 1.3392... Val Loss: 1.3781\n",
      "Epoch: 10/20... Step: 1340... Loss: 1.3264... Val Loss: 1.3735\n"
     ]
    },
    {
     "name": "stdout",
     "output_type": "stream",
     "text": [
      "Epoch: 10/20... Step: 1350... Loss: 1.3228... Val Loss: 1.3717\n",
      "Epoch: 10/20... Step: 1360... Loss: 1.3364... Val Loss: 1.3766\n",
      "Epoch: 10/20... Step: 1370... Loss: 1.3243... Val Loss: 1.3715\n",
      "Epoch: 10/20... Step: 1380... Loss: 1.3608... Val Loss: 1.3671\n",
      "Epoch: 10/20... Step: 1390... Loss: 1.3719... Val Loss: 1.3698\n",
      "Epoch: 11/20... Step: 1400... Loss: 1.3689... Val Loss: 1.3706\n",
      "Epoch: 11/20... Step: 1410... Loss: 1.3883... Val Loss: 1.3701\n",
      "Epoch: 11/20... Step: 1420... Loss: 1.3676... Val Loss: 1.3636\n",
      "Epoch: 11/20... Step: 1430... Loss: 1.3378... Val Loss: 1.3648\n",
      "Epoch: 11/20... Step: 1440... Loss: 1.3606... Val Loss: 1.3665\n",
      "Epoch: 11/20... Step: 1450... Loss: 1.2943... Val Loss: 1.3668\n",
      "Epoch: 11/20... Step: 1460... Loss: 1.3300... Val Loss: 1.3643\n",
      "Epoch: 11/20... Step: 1470... Loss: 1.3049... Val Loss: 1.3665\n",
      "Epoch: 11/20... Step: 1480... Loss: 1.3298... Val Loss: 1.3593\n",
      "Epoch: 11/20... Step: 1490... Loss: 1.3218... Val Loss: 1.3609\n",
      "Epoch: 11/20... Step: 1500... Loss: 1.2992... Val Loss: 1.3619\n",
      "Epoch: 11/20... Step: 1510... Loss: 1.3015... Val Loss: 1.3597\n",
      "Epoch: 11/20... Step: 1520... Loss: 1.3331... Val Loss: 1.3541\n",
      "Epoch: 12/20... Step: 1530... Loss: 1.3728... Val Loss: 1.3579\n",
      "Epoch: 12/20... Step: 1540... Loss: 1.3396... Val Loss: 1.3523\n",
      "Epoch: 12/20... Step: 1550... Loss: 1.3461... Val Loss: 1.3556\n",
      "Epoch: 12/20... Step: 1560... Loss: 1.3479... Val Loss: 1.3520\n",
      "Epoch: 12/20... Step: 1570... Loss: 1.3017... Val Loss: 1.3540\n",
      "Epoch: 12/20... Step: 1580... Loss: 1.2839... Val Loss: 1.3502\n",
      "Epoch: 12/20... Step: 1590... Loss: 1.2782... Val Loss: 1.3530\n",
      "Epoch: 12/20... Step: 1600... Loss: 1.3072... Val Loss: 1.3519\n",
      "Epoch: 12/20... Step: 1610... Loss: 1.3057... Val Loss: 1.3699\n",
      "Epoch: 12/20... Step: 1620... Loss: 1.3035... Val Loss: 1.3462\n",
      "Epoch: 12/20... Step: 1630... Loss: 1.3205... Val Loss: 1.3450\n",
      "Epoch: 12/20... Step: 1640... Loss: 1.2967... Val Loss: 1.3459\n",
      "Epoch: 12/20... Step: 1650... Loss: 1.2690... Val Loss: 1.3458\n",
      "Epoch: 12/20... Step: 1660... Loss: 1.3360... Val Loss: 1.3387\n",
      "Epoch: 13/20... Step: 1670... Loss: 1.3013... Val Loss: 1.3425\n",
      "Epoch: 13/20... Step: 1680... Loss: 1.3077... Val Loss: 1.3396\n",
      "Epoch: 13/20... Step: 1690... Loss: 1.2872... Val Loss: 1.3390\n",
      "Epoch: 13/20... Step: 1700... Loss: 1.3007... Val Loss: 1.3388\n",
      "Epoch: 13/20... Step: 1710... Loss: 1.2689... Val Loss: 1.3389\n",
      "Epoch: 13/20... Step: 1720... Loss: 1.2770... Val Loss: 1.3383\n",
      "Epoch: 13/20... Step: 1730... Loss: 1.3173... Val Loss: 1.3416\n",
      "Epoch: 13/20... Step: 1740... Loss: 1.2956... Val Loss: 1.3373\n",
      "Epoch: 13/20... Step: 1750... Loss: 1.2571... Val Loss: 1.3442\n",
      "Epoch: 13/20... Step: 1760... Loss: 1.2850... Val Loss: 1.3354\n",
      "Epoch: 13/20... Step: 1770... Loss: 1.3093... Val Loss: 1.3332\n",
      "Epoch: 13/20... Step: 1780... Loss: 1.2806... Val Loss: 1.3360\n",
      "Epoch: 13/20... Step: 1790... Loss: 1.2617... Val Loss: 1.3317\n",
      "Epoch: 13/20... Step: 1800... Loss: 1.2920... Val Loss: 1.3294\n",
      "Epoch: 14/20... Step: 1810... Loss: 1.3068... Val Loss: 1.3387\n",
      "Epoch: 14/20... Step: 1820... Loss: 1.2871... Val Loss: 1.3316\n",
      "Epoch: 14/20... Step: 1830... Loss: 1.3013... Val Loss: 1.3267\n",
      "Epoch: 14/20... Step: 1840... Loss: 1.2532... Val Loss: 1.3317\n",
      "Epoch: 14/20... Step: 1850... Loss: 1.2353... Val Loss: 1.3319\n",
      "Epoch: 14/20... Step: 1860... Loss: 1.2950... Val Loss: 1.3318\n",
      "Epoch: 14/20... Step: 1870... Loss: 1.3016... Val Loss: 1.3318\n",
      "Epoch: 14/20... Step: 1880... Loss: 1.2821... Val Loss: 1.3241\n",
      "Epoch: 14/20... Step: 1890... Loss: 1.2931... Val Loss: 1.3302\n",
      "Epoch: 14/20... Step: 1900... Loss: 1.2850... Val Loss: 1.3234\n",
      "Epoch: 14/20... Step: 1910... Loss: 1.2684... Val Loss: 1.3239\n",
      "Epoch: 14/20... Step: 1920... Loss: 1.2741... Val Loss: 1.3278\n",
      "Epoch: 14/20... Step: 1930... Loss: 1.2453... Val Loss: 1.3235\n",
      "Epoch: 14/20... Step: 1940... Loss: 1.3087... Val Loss: 1.3183\n",
      "Epoch: 15/20... Step: 1950... Loss: 1.2703... Val Loss: 1.3263\n",
      "Epoch: 15/20... Step: 1960... Loss: 1.2723... Val Loss: 1.3181\n",
      "Epoch: 15/20... Step: 1970... Loss: 1.2688... Val Loss: 1.3181\n",
      "Epoch: 15/20... Step: 1980... Loss: 1.2592... Val Loss: 1.3228\n",
      "Epoch: 15/20... Step: 1990... Loss: 1.2635... Val Loss: 1.3230\n",
      "Epoch: 15/20... Step: 2000... Loss: 1.2375... Val Loss: 1.3227\n",
      "Epoch: 15/20... Step: 2010... Loss: 1.2615... Val Loss: 1.3218\n",
      "Epoch: 15/20... Step: 2020... Loss: 1.2831... Val Loss: 1.3177\n",
      "Epoch: 15/20... Step: 2030... Loss: 1.2486... Val Loss: 1.3227\n",
      "Epoch: 15/20... Step: 2040... Loss: 1.2722... Val Loss: 1.3200\n",
      "Epoch: 15/20... Step: 2050... Loss: 1.2521... Val Loss: 1.3163\n",
      "Epoch: 15/20... Step: 2060... Loss: 1.2706... Val Loss: 1.3161\n",
      "Epoch: 15/20... Step: 2070... Loss: 1.2742... Val Loss: 1.3168\n",
      "Epoch: 15/20... Step: 2080... Loss: 1.2602... Val Loss: 1.3157\n",
      "Epoch: 16/20... Step: 2090... Loss: 1.2710... Val Loss: 1.3149\n",
      "Epoch: 16/20... Step: 2100... Loss: 1.2538... Val Loss: 1.3112\n",
      "Epoch: 16/20... Step: 2110... Loss: 1.2516... Val Loss: 1.3106\n",
      "Epoch: 16/20... Step: 2120... Loss: 1.2509... Val Loss: 1.3168\n",
      "Epoch: 16/20... Step: 2130... Loss: 1.2304... Val Loss: 1.3138\n",
      "Epoch: 16/20... Step: 2140... Loss: 1.2472... Val Loss: 1.3136\n",
      "Epoch: 16/20... Step: 2150... Loss: 1.2678... Val Loss: 1.3156\n",
      "Epoch: 16/20... Step: 2160... Loss: 1.2485... Val Loss: 1.3117\n",
      "Epoch: 16/20... Step: 2170... Loss: 1.2440... Val Loss: 1.3147\n",
      "Epoch: 16/20... Step: 2180... Loss: 1.2411... Val Loss: 1.3083\n",
      "Epoch: 16/20... Step: 2190... Loss: 1.2649... Val Loss: 1.3034\n",
      "Epoch: 16/20... Step: 2200... Loss: 1.2421... Val Loss: 1.3080\n",
      "Epoch: 16/20... Step: 2210... Loss: 1.2047... Val Loss: 1.3007\n",
      "Epoch: 16/20... Step: 2220... Loss: 1.2398... Val Loss: 1.3053\n",
      "Epoch: 17/20... Step: 2230... Loss: 1.2349... Val Loss: 1.3092\n",
      "Epoch: 17/20... Step: 2240... Loss: 1.2453... Val Loss: 1.2996\n",
      "Epoch: 17/20... Step: 2250... Loss: 1.2257... Val Loss: 1.3015\n",
      "Epoch: 17/20... Step: 2260... Loss: 1.2310... Val Loss: 1.3042\n",
      "Epoch: 17/20... Step: 2270... Loss: 1.2356... Val Loss: 1.3029\n",
      "Epoch: 17/20... Step: 2280... Loss: 1.2495... Val Loss: 1.3022\n",
      "Epoch: 17/20... Step: 2290... Loss: 1.2452... Val Loss: 1.3012\n",
      "Epoch: 17/20... Step: 2300... Loss: 1.2102... Val Loss: 1.2997\n",
      "Epoch: 17/20... Step: 2310... Loss: 1.2330... Val Loss: 1.3012\n",
      "Epoch: 17/20... Step: 2320... Loss: 1.2213... Val Loss: 1.2990\n",
      "Epoch: 17/20... Step: 2330... Loss: 1.2275... Val Loss: 1.2971\n",
      "Epoch: 17/20... Step: 2340... Loss: 1.2345... Val Loss: 1.2950\n",
      "Epoch: 17/20... Step: 2350... Loss: 1.2333... Val Loss: 1.2884\n",
      "Epoch: 17/20... Step: 2360... Loss: 1.2483... Val Loss: 1.2951\n",
      "Epoch: 18/20... Step: 2370... Loss: 1.2131... Val Loss: 1.2970\n",
      "Epoch: 18/20... Step: 2380... Loss: 1.2187... Val Loss: 1.2908\n",
      "Epoch: 18/20... Step: 2390... Loss: 1.2304... Val Loss: 1.2933\n",
      "Epoch: 18/20... Step: 2400... Loss: 1.2495... Val Loss: 1.2933\n",
      "Epoch: 18/20... Step: 2410... Loss: 1.2325... Val Loss: 1.2906\n",
      "Epoch: 18/20... Step: 2420... Loss: 1.2212... Val Loss: 1.2895\n",
      "Epoch: 18/20... Step: 2430... Loss: 1.2338... Val Loss: 1.2873\n",
      "Epoch: 18/20... Step: 2440... Loss: 1.2158... Val Loss: 1.2949\n",
      "Epoch: 18/20... Step: 2450... Loss: 1.2123... Val Loss: 1.2928\n",
      "Epoch: 18/20... Step: 2460... Loss: 1.2280... Val Loss: 1.2899\n",
      "Epoch: 18/20... Step: 2470... Loss: 1.2249... Val Loss: 1.2859\n",
      "Epoch: 18/20... Step: 2480... Loss: 1.2050... Val Loss: 1.2851\n",
      "Epoch: 18/20... Step: 2490... Loss: 1.2026... Val Loss: 1.2859\n",
      "Epoch: 18/20... Step: 2500... Loss: 1.2108... Val Loss: 1.2879\n",
      "Epoch: 19/20... Step: 2510... Loss: 1.2236... Val Loss: 1.2935\n",
      "Epoch: 19/20... Step: 2520... Loss: 1.2266... Val Loss: 1.2823\n",
      "Epoch: 19/20... Step: 2530... Loss: 1.2269... Val Loss: 1.2883\n",
      "Epoch: 19/20... Step: 2540... Loss: 1.2387... Val Loss: 1.2855\n",
      "Epoch: 19/20... Step: 2550... Loss: 1.2041... Val Loss: 1.2852\n",
      "Epoch: 19/20... Step: 2560... Loss: 1.2149... Val Loss: 1.2835\n",
      "Epoch: 19/20... Step: 2570... Loss: 1.2096... Val Loss: 1.2832\n",
      "Epoch: 19/20... Step: 2580... Loss: 1.2424... Val Loss: 1.2796\n",
      "Epoch: 19/20... Step: 2590... Loss: 1.2109... Val Loss: 1.2906\n",
      "Epoch: 19/20... Step: 2600... Loss: 1.2026... Val Loss: 1.2782\n",
      "Epoch: 19/20... Step: 2610... Loss: 1.2070... Val Loss: 1.2804\n",
      "Epoch: 19/20... Step: 2620... Loss: 1.1921... Val Loss: 1.2783\n",
      "Epoch: 19/20... Step: 2630... Loss: 1.1984... Val Loss: 1.2749\n",
      "Epoch: 19/20... Step: 2640... Loss: 1.2135... Val Loss: 1.2812\n",
      "Epoch: 20/20... Step: 2650... Loss: 1.2109... Val Loss: 1.2789\n"
     ]
    },
    {
     "name": "stdout",
     "output_type": "stream",
     "text": [
      "Epoch: 20/20... Step: 2660... Loss: 1.2186... Val Loss: 1.2788\n",
      "Epoch: 20/20... Step: 2670... Loss: 1.2192... Val Loss: 1.2764\n",
      "Epoch: 20/20... Step: 2680... Loss: 1.2160... Val Loss: 1.2783\n",
      "Epoch: 20/20... Step: 2690... Loss: 1.2042... Val Loss: 1.2788\n",
      "Epoch: 20/20... Step: 2700... Loss: 1.2061... Val Loss: 1.2739\n",
      "Epoch: 20/20... Step: 2710... Loss: 1.1950... Val Loss: 1.2775\n",
      "Epoch: 20/20... Step: 2720... Loss: 1.1782... Val Loss: 1.2790\n",
      "Epoch: 20/20... Step: 2730... Loss: 1.1740... Val Loss: 1.2755\n",
      "Epoch: 20/20... Step: 2740... Loss: 1.1758... Val Loss: 1.2739\n",
      "Epoch: 20/20... Step: 2750... Loss: 1.1882... Val Loss: 1.2780\n",
      "Epoch: 20/20... Step: 2760... Loss: 1.1780... Val Loss: 1.2750\n",
      "Epoch: 20/20... Step: 2770... Loss: 1.2140... Val Loss: 1.2731\n",
      "Epoch: 20/20... Step: 2780... Loss: 1.2447... Val Loss: 1.2739\n"
     ]
    }
   ],
   "source": [
    "batch_size = 128\n",
    "seq_length = 100\n",
    "n_epochs = 20 # start small if you are just testing initial behavior\n",
    "\n",
    "# train the model\n",
    "train(net, encoded, epochs=n_epochs, batch_size=batch_size, seq_length=seq_length, lr=0.001, print_every=10)"
   ]
  },
  {
   "cell_type": "markdown",
   "metadata": {},
   "source": [
    "## Getting the best model\n",
    "\n",
    "To set your hyperparameters to get the best performance, you'll want to watch the training and validation losses. If your training loss is much lower than the validation loss, you're overfitting. Increase regularization (more dropout) or use a smaller network. If the training and validation losses are close, you're underfitting so you can increase the size of the network."
   ]
  },
  {
   "cell_type": "markdown",
   "metadata": {},
   "source": [
    "## Hyperparameters\n",
    "\n",
    "Here are the hyperparameters for the network.\n",
    "\n",
    "In defining the model:\n",
    "* `n_hidden` - The number of units in the hidden layers.\n",
    "* `n_layers` - Number of hidden LSTM layers to use.\n",
    "\n",
    "We assume that dropout probability and learning rate will be kept at the default, in this example.\n",
    "\n",
    "And in training:\n",
    "* `batch_size` - Number of sequences running through the network in one pass.\n",
    "* `seq_length` - Number of characters in the sequence the network is trained on. Larger is better typically, the network will learn more long range dependencies. But it takes longer to train. 100 is typically a good number here.\n",
    "* `lr` - Learning rate for training\n",
    "\n",
    "Here's some good advice from Andrej Karpathy on training the network. I'm going to copy it in here for your benefit, but also link to [where it originally came from](https://github.com/karpathy/char-rnn#tips-and-tricks).\n",
    "\n",
    "> ## Tips and Tricks\n",
    "\n",
    ">### Monitoring Validation Loss vs. Training Loss\n",
    ">If you're somewhat new to Machine Learning or Neural Networks it can take a bit of expertise to get good models. The most important quantity to keep track of is the difference between your training loss (printed during training) and the validation loss (printed once in a while when the RNN is run on the validation data (by default every 1000 iterations)). In particular:\n",
    "\n",
    "> - If your training loss is much lower than validation loss then this means the network might be **overfitting**. Solutions to this are to decrease your network size, or to increase dropout. For example you could try dropout of 0.5 and so on.\n",
    "> - If your training/validation loss are about equal then your model is **underfitting**. Increase the size of your model (either number of layers or the raw number of neurons per layer)\n",
    "\n",
    "> ### Approximate number of parameters\n",
    "\n",
    "> The two most important parameters that control the model are `n_hidden` and `n_layers`. I would advise that you always use `n_layers` of either 2/3. The `n_hidden` can be adjusted based on how much data you have. The two important quantities to keep track of here are:\n",
    "\n",
    "> - The number of parameters in your model. This is printed when you start training.\n",
    "> - The size of your dataset. 1MB file is approximately 1 million characters.\n",
    "\n",
    ">These two should be about the same order of magnitude. It's a little tricky to tell. Here are some examples:\n",
    "\n",
    "> - I have a 100MB dataset and I'm using the default parameter settings (which currently print 150K parameters). My data size is significantly larger (100 mil >> 0.15 mil), so I expect to heavily underfit. I am thinking I can comfortably afford to make `n_hidden` larger.\n",
    "> - I have a 10MB dataset and running a 10 million parameter model. I'm slightly nervous and I'm carefully monitoring my validation loss. If it's larger than my training loss then I may want to try to increase dropout a bit and see if that helps the validation loss.\n",
    "\n",
    "> ### Best models strategy\n",
    "\n",
    ">The winning strategy to obtaining very good models (if you have the compute time) is to always err on making the network larger (as large as you're willing to wait for it to compute) and then try different dropout values (between 0,1). Whatever model has the best validation performance (the loss, written in the checkpoint filename, low is good) is the one you should use in the end.\n",
    "\n",
    ">It is very common in deep learning to run many different models with many different hyperparameter settings, and in the end take whatever checkpoint gave the best validation performance.\n",
    "\n",
    ">By the way, the size of your training and validation splits are also parameters. Make sure you have a decent amount of data in your validation set or otherwise the validation performance will be noisy and not very informative."
   ]
  },
  {
   "cell_type": "markdown",
   "metadata": {},
   "source": [
    "## Checkpoint\n",
    "\n",
    "After training, we'll save the model so we can load it again later if we need too. Here I'm saving the parameters needed to create the same architecture, the hidden layer hyperparameters and the text characters."
   ]
  },
  {
   "cell_type": "code",
   "execution_count": 98,
   "metadata": {},
   "outputs": [],
   "source": [
    "# change the name, for saving multiple files\n",
    "model_name = 'rnn_x_epoch.net'\n",
    "\n",
    "checkpoint = {'n_hidden': net.n_hidden,\n",
    "              'n_layers': net.n_layers,\n",
    "              'state_dict': net.state_dict(),\n",
    "              'tokens': net.chars}\n",
    "\n",
    "with open(model_name, 'wb') as f:\n",
    "    torch.save(checkpoint, f)"
   ]
  },
  {
   "cell_type": "markdown",
   "metadata": {},
   "source": [
    "---\n",
    "## Making Predictions\n",
    "\n",
    "Now that the model is trained, we'll want to sample from it and make predictions about next characters! To sample, we pass in a character and have the network predict the next character. Then we take that character, pass it back in, and get another predicted character. Just keep doing this and you'll generate a bunch of text!\n",
    "\n",
    "### A note on the `predict`  function\n",
    "\n",
    "The output of our RNN is from a fully-connected layer and it outputs a **distribution of next-character scores**.\n",
    "\n",
    "> To actually get the next character, we apply a softmax function, which gives us a *probability* distribution that we can then sample to predict the next character.\n",
    "\n",
    "### Top K sampling\n",
    "\n",
    "Our predictions come from a categorical probability distribution over all the possible characters. We can make the sample text and make it more reasonable to handle (with less variables) by only considering some $K$ most probable characters. This will prevent the network from giving us completely absurd characters while allowing it to introduce some noise and randomness into the sampled text. Read more about [topk, here](https://pytorch.org/docs/stable/torch.html#torch.topk).\n"
   ]
  },
  {
   "cell_type": "code",
   "execution_count": 99,
   "metadata": {},
   "outputs": [],
   "source": [
    "def predict(net, char, h=None, top_k=None):\n",
    "        ''' Given a character, predict the next character.\n",
    "            Returns the predicted character and the hidden state.\n",
    "        '''\n",
    "        \n",
    "        # tensor inputs\n",
    "        x = np.array([[net.char2int[char]]])\n",
    "        x = one_hot_encode(x, len(net.chars))\n",
    "        inputs = torch.from_numpy(x)\n",
    "        \n",
    "        if(train_on_gpu):\n",
    "            inputs = inputs.cuda()\n",
    "        \n",
    "        # detach hidden state from history\n",
    "        h = tuple([each.data for each in h])\n",
    "        # get the output of the model\n",
    "        out, h = net(inputs, h)\n",
    "\n",
    "        # get the character probabilities\n",
    "        p = F.softmax(out, dim=1).data\n",
    "        if(train_on_gpu):\n",
    "            p = p.cpu() # move to cpu\n",
    "        \n",
    "        # get top characters\n",
    "        if top_k is None:\n",
    "            top_ch = np.arange(len(net.chars))\n",
    "        else:\n",
    "            p, top_ch = p.topk(top_k)\n",
    "            top_ch = top_ch.numpy().squeeze()\n",
    "        \n",
    "        # select the likely next character with some element of randomness\n",
    "        p = p.numpy().squeeze()\n",
    "        char = np.random.choice(top_ch, p=p/p.sum())\n",
    "        \n",
    "        # return the encoded value of the predicted char and the hidden state\n",
    "        return net.int2char[char], h"
   ]
  },
  {
   "cell_type": "markdown",
   "metadata": {},
   "source": [
    "### Priming and generating text \n",
    "\n",
    "Typically you'll want to prime the network so you can build up a hidden state. Otherwise the network will start out generating characters at random. In general the first bunch of characters will be a little rough since it hasn't built up a long history of characters to predict from."
   ]
  },
  {
   "cell_type": "code",
   "execution_count": 100,
   "metadata": {},
   "outputs": [],
   "source": [
    "def sample(net, size, prime='The', top_k=None):\n",
    "        \n",
    "    if(train_on_gpu):\n",
    "        net.cuda()\n",
    "    else:\n",
    "        net.cpu()\n",
    "    \n",
    "    net.eval() # eval mode\n",
    "    \n",
    "    # First off, run through the prime characters\n",
    "    chars = [ch for ch in prime]\n",
    "    h = net.init_hidden(1)\n",
    "    for ch in prime:\n",
    "        char, h = predict(net, ch, h, top_k=top_k)\n",
    "\n",
    "    chars.append(char)\n",
    "    \n",
    "    # Now pass in the previous character and get a new one\n",
    "    for ii in range(size):\n",
    "        char, h = predict(net, chars[-1], h, top_k=top_k)\n",
    "        chars.append(char)\n",
    "\n",
    "    return ''.join(chars)"
   ]
  },
  {
   "cell_type": "code",
   "execution_count": 101,
   "metadata": {},
   "outputs": [
    {
     "name": "stdout",
     "output_type": "stream",
     "text": [
      "Anna, she had not\n",
      "seeing him.\n",
      "\n",
      "\"I heard the sight of times. In the conversation to see there's to see her till this\n",
      "is something sharl than the matter. And I see in the party's talk of\n",
      "haspes,\n",
      "and I see her formiving about the conversation of a supper, but it's standing\n",
      "out of the steanticular than if you must come in any men in\n",
      "her, how to be said.\"\n",
      "\n",
      "\"Oh, yes, it is she's not fas as it is, and this, I will say now, I will\n",
      "grate all the fact.\"\n",
      "\n",
      "\"Well, which were, there is a lost alone,\" he said, and he had told her so much a\n",
      "little strong, winkons than anyended him with the menserow\n",
      "in the start on, but she sended to get the first those procistication. They\n",
      "read on his wife, went away with her husband that had already sat disagreeable\n",
      "to see the cross, as he could not stiff himself that she saw in the district\n",
      "as the personal steps of the marshal of his fashilated attention that the\n",
      "strange properly straight hundred had been drunk her and thought, but that\n",
      "the most man who had the colonel w\n"
     ]
    }
   ],
   "source": [
    "print(sample(net, 1000, prime='Anna', top_k=5))"
   ]
  },
  {
   "cell_type": "markdown",
   "metadata": {},
   "source": [
    "## Loading a checkpoint"
   ]
  },
  {
   "cell_type": "code",
   "execution_count": 102,
   "metadata": {},
   "outputs": [
    {
     "data": {
      "text/plain": [
       "<All keys matched successfully>"
      ]
     },
     "execution_count": 102,
     "metadata": {},
     "output_type": "execute_result"
    }
   ],
   "source": [
    "# Here we have loaded in a model that trained over 20 epochs `rnn_20_epoch.net`\n",
    "with open('rnn_x_epoch.net', 'rb') as f:\n",
    "    checkpoint = torch.load(f)\n",
    "    \n",
    "loaded = CharRNN(checkpoint['tokens'], n_hidden=checkpoint['n_hidden'], n_layers=checkpoint['n_layers'])\n",
    "loaded.load_state_dict(checkpoint['state_dict'])"
   ]
  },
  {
   "cell_type": "code",
   "execution_count": 103,
   "metadata": {},
   "outputs": [
    {
     "name": "stdout",
     "output_type": "stream",
     "text": [
      "And Levin said\n",
      "in the morning, but a man of half so love anything, too, and\n",
      "he frenting his hands in this principles with an old part of such. They sam that\n",
      "this mother seemed to then at a continual figure of that\n",
      "moment what he came out to have any officing.\n",
      "\n",
      "\"Ah, I have not to do to be a more something to the beauty,\" he said.\n",
      "\n",
      "\"I have never been ten you and had become much at one father. But if he's not been for a merrier standing in\n",
      "my woman.\n",
      "I shall go away, but you know the matter and mind walk and the\n",
      "monom of his way, I don't know what I can't speak of my look and thill that I'll\n",
      "brought her here in some son. In the creature which I am saying\n",
      "in this mean of my soll of the fine came, to don't all should be in such as a child, and an\n",
      "instant that there's no high some of them.\"\n",
      "\n",
      "\"What do you should be all any often as the princess is she satisfied.\"\n",
      "\n",
      "Sergey Ivanovitch could not give\n",
      "his heart, brought her and anything treated her the peasant. There\n",
      "was a low to have seen her for three other with the friends, her eyes. The same\n",
      "three corridor, he had both the position with his words, as he came up from her\n",
      "settled tact, and the calming was over the stranger.\n",
      "\n",
      "\"I am sire in spite of her foremeats what I saw I should be that your hands was\n",
      "not a gentleman to be musing in the same then that you want to meet\n",
      "him to such a lang and thinking.. And you know it too,\" the calm to herself that\n",
      "there was sicclesing an answer, and who was at once they had stopped.\n",
      "\n",
      "At the master were the conversation in his explaining his hands. He went into the same tente\n",
      "and dartenter, and her small part of his cases and steps of the\n",
      "cried treating to her husband that he felt that still so much\n",
      "so impossible and taken to him. And she cried him to her shates.\n",
      "\n",
      "\"What do you will see you, the district creature? I'm so more than\n",
      "it,\" said Anna's. \"If it were a pity and a strange ceatern\n",
      "arrangements.\"\n",
      "\n",
      "\"I don't disappear that it's a son to stood and tell me to me for him, but\n",
      "she should not have been stick\n"
     ]
    }
   ],
   "source": [
    "# Sample using a loaded model\n",
    "print(sample(loaded, 2000, top_k=5, prime=\"And Levin said\"))"
   ]
  },
  {
   "cell_type": "code",
   "execution_count": null,
   "metadata": {
    "collapsed": true
   },
   "outputs": [],
   "source": []
  }
 ],
 "metadata": {
  "kernelspec": {
   "display_name": "Python 3",
   "language": "python",
   "name": "python3"
  },
  "language_info": {
   "codemirror_mode": {
    "name": "ipython",
    "version": 3
   },
   "file_extension": ".py",
   "mimetype": "text/x-python",
   "name": "python",
   "nbconvert_exporter": "python",
   "pygments_lexer": "ipython3",
   "version": "3.5.5"
  }
 },
 "nbformat": 4,
 "nbformat_minor": 2
}
