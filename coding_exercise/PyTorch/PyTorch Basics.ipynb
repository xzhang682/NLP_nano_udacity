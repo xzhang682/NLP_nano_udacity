{
 "cells": [
  {
   "cell_type": "markdown",
   "metadata": {},
   "source": [
    "### Welcome!\n",
    "Welcome! In this lesson, you'll learn how to use PyTorch for building deep learning models. PyTorch was released in early 2017 and has been making a pretty big impact in the deep learning community. It's developed as an open source project by the **[Facebook AI Research](https://ai.facebook.com/)** team, but is being adopted by teams everywhere in industry and academia. In my experience, it's the best framework for learning deep learning and just a delight to work with in general. By the end of this lesson, you'll have trained your own deep learning model that can classify images of cats and dogs.\n",
    "\n",
    "I'll first give you a basic introduction to PyTorch, where we'll cover **tensors** - the main data structure of PyTorch. I'll show you how to create tensors, how to do simple operations, and how tensors interact with NumPy.\n",
    "\n",
    "Then you'll learn about a module called **autograd** that PyTorch uses to calculate gradients for training neural networks. Autograd, in my opinion, is amazing. It does all the work of backpropagation for you by calculating the gradients at each operation in the network which you can then use to update the network weights.\n",
    "\n",
    "Next you'll use PyTorch to build a network and run data forward through it. After that, you'll define a loss and an optimization method to train the neural network on a dataset of handwritten digits. You'll also learn how to test that your network is able to generalize through **validation**.\n",
    "\n",
    "However, you'll find that your network doesn't work too well with more complex images. You'll learn how to use pre-trained networks to improve the performance of your classifier, a technique known as **transfer learning**.\n",
    "\n",
    "Follow along with the videos and work through the exercises in your own notebooks. If you get stuck, check out my solution videos and notebooks.\n",
    "\n",
    "#### Get the notebooks\n",
    "The notebooks for this lesson will be provided in the classroom, but if you wish to follow along on your local machine, then the instructions below will help you get setup and ready to learn!\n",
    "\n",
    "All the notebooks for this lesson are available from **[our deep learning repo on GitHub](https://github.com/udacity/deep-learning-v2-pytorch)**. Please clone the repo by typing\n",
    "\n",
    "`git clone https://github.com/udacity/deep-learning-v2-pytorch.git`\n",
    "\n",
    "in your terminal. Then navigate to the `intro-to-pytorch` directory in the repo.\n",
    "\n",
    "Follow along in your notebooks to complete the exercises. I'll also be providing solutions to the exercises, both in videos and in the notebooks marked `(Solution)`.\n",
    "\n",
    "#### Dependencies\n",
    "These notebooks require PyTorch v0.4 or newer, and torchvision. The easiest way to install PyTorch and torchvision locally is by following **[the instructions on the PyTorch site](https://pytorch.org/get-started/locally/)**. Choose the stable version, your appropriate OS and Python versions, and how you'd like to install it. You'll also need to install numpy and jupyter notebooks, the newest versions of these should work fine. Using the conda package manager is generally best for this,\n",
    "\n",
    "`conda install numpy jupyter notebook`\n",
    "\n",
    "If you haven't used conda before, please read the documentation to learn how to create environments and install packages. I suggest installing Miniconda instead of the whole Anaconda distribution. The normal package manager pip also works well. If you have a preference, go with that.\n",
    "\n",
    "The final part of the series has a soft requirement of a GPU used to accelerate network computations. Even if you don't have a GPU available, you'll still be able to run the code and finish the exercises. PyTorch uses a library called **[CUDA](https://developer.nvidia.com/cuda-zone)** to accelerate operations using the GPU. If you have a GPU that CUDA supports, you'll be able to install all the necessary libraries by installing PyTorch with conda. If you can't use a local GPU, you can use cloud platforms such as **[AWS](https://docs.aws.amazon.com/dlami/latest/devguide/gpu.html)**, **[GCP](https://cloud.google.com/gpu/)**, and **[FloydHub](https://www.floydhub.com/)** to train your networks on a GPU."
   ]
  },
  {
   "cell_type": "markdown",
   "metadata": {},
   "source": [
    "### Deep Learning with PyTorch\n",
    "* Part 1: Introduction to PyTorch and using tensors\n",
    "    - Exercise: Part 1 - Tensors in PyTorch (Exercises)\n",
    "    - Videos: PyTorch V2 Part 1\n",
    "* Part 2: Building fully-connected neural networks with PyTorch\n",
    "    - Exercise: Part 2 - Neural Networks in PyTorch (Exercises)\n",
    "    - Videos: PyTorch V2 Part 2\n",
    "* Part 3: How to train a fully-connected network with backpropagation on MNIST\n",
    "    - Exercise: Part 3 - Training Neural Networks (Exercises)\n",
    "    - Videos: PyTorch V2 Part 3\n",
    "* Part 4: Exercise - train a neural network on Fashion-MNIST\n",
    "    - Exercise: Part 4 - Fashion-MNIST (Exercises)\n",
    "    - Videos: PyTorch V2 Part 4\n",
    "* Part 5: Using a trained network for making predictions and validating networks\n",
    "    - Exercise: Part 5 - Inference and Validation (Exercises)\n",
    "    - Videos: PyTorch V2 Part 5\n",
    "* Part 6: How to save and load trained models\n",
    "    - Exercise: Part 6 - Saving and Loading Models\n",
    "    - Videos: PyTorch V2 Part 6\n",
    "* Part 7: Load image data with torchvision, also data augmentation\n",
    "    - Exercise: Part 7 - Loading Image Data (Exercises)\n",
    "    - Videos: PyTorch V2 Part 7\n",
    "* Part 8: Use transfer learning to train a state-of-the-art image classifier for dogs and cats\n",
    "    - Exercise: Part 8 - Transfer Learning (Exercises)\n",
    "    - Videos: PyTorch V2 Part 8"
   ]
  },
  {
   "cell_type": "markdown",
   "metadata": {},
   "source": [
    "### Watch those shapes\n",
    "In general, you'll want to check that the tensors going through your model and other code are the correct shapes. Make use of the `.shape` method during debugging and development.\n",
    "\n",
    "#### A few things to check if your network isn't training appropriately\n",
    "Make sure you're clearing the gradients in the training loop with `optimizer.zero_grad()`. If you're doing a validation loop, be sure to set the network to evaluation mode with `model.eval()`, then back to training mode with `model.train()`.\n",
    "\n",
    "#### CUDA errors\n",
    "Sometimes you'll see this error:\n",
    "\n",
    "`RuntimeError: Expected object of type torch.FloatTensor but found type torch.cuda.FloatTensor for argument #1 ‘mat1’`\n",
    "\n",
    "You'll notice the second type is `torch.cuda.FloatTensor`, this means it's a tensor that has been moved to the GPU. It's expecting a tensor with type `torch.FloatTensor`, no `.cuda` there, which means the tensor should be on the CPU. PyTorch can only perform operations on tensors that are on the same device, so either both CPU or both GPU. If you're trying to run your network on the GPU, check to make sure you've moved the model and all necessary tensors to the GPU with `.to(device)` where device is either `\"cuda\"` or `\"cpu\"`."
   ]
  },
  {
   "cell_type": "code",
   "execution_count": null,
   "metadata": {},
   "outputs": [],
   "source": []
  }
 ],
 "metadata": {
  "kernelspec": {
   "display_name": "Python 3",
   "language": "python",
   "name": "python3"
  },
  "language_info": {
   "codemirror_mode": {
    "name": "ipython",
    "version": 3
   },
   "file_extension": ".py",
   "mimetype": "text/x-python",
   "name": "python",
   "nbconvert_exporter": "python",
   "pygments_lexer": "ipython3",
   "version": "3.8.3"
  }
 },
 "nbformat": 4,
 "nbformat_minor": 4
}
